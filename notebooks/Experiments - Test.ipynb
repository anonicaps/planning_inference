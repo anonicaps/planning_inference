{
 "cells": [
  {
   "cell_type": "code",
   "execution_count": 1,
   "metadata": {},
   "outputs": [],
   "source": [
    "from planning_inference.parsers import parse_model, parse_problem, parse_plan, parse_trajectory, parse_hypothesis, parse_observation_sequence\n",
    "from planning_inference.generator import generate_trajectory\n",
    "from planning_inference.functions import generate_all_literals, get_matching_literals\n",
    "\n",
    "from planning_inference.pddl import Conjunction, Literal, Type, TypedObject, Effect, Truth, NumericConstant, PrimitiveNumericExpression, Increase\n",
    "from planning_inference.pddl import SensorModel\n",
    "\n",
    "from planning_inference.observations import Trajectory, Hypothesis, State\n",
    "\n",
    "from planning_inference import DecodingTask\n",
    "\n",
    "from sensor_models import load_sensor_model\n",
    "\n",
    "import os\n",
    "import copy\n",
    "from collections import defaultdict\n",
    "from itertools import combinations\n",
    "from random import choice, sample, shuffle\n",
    "import numpy as np\n",
    "import glob\n",
    "import time"
   ]
  },
  {
   "cell_type": "code",
   "execution_count": 2,
   "metadata": {},
   "outputs": [],
   "source": [
    "domain = \"openstacks\"\n",
    "task = \"prediction\"\n",
    "observability = 50\n",
    "pnum = 0\n",
    "timeout = 120\n",
    "\n",
    "only_correct = True\n",
    "only_print = True"
   ]
  },
  {
   "cell_type": "code",
   "execution_count": 3,
   "metadata": {},
   "outputs": [],
   "source": [
    "# Load sensor model\n",
    "Ms = load_sensor_model(domain)"
   ]
  },
  {
   "cell_type": "code",
   "execution_count": 4,
   "metadata": {},
   "outputs": [
    {
     "name": "stdout",
     "output_type": "stream",
     "text": [
      "benchmark/openstacks/prediction/50/P00\n",
      "Correct hypothesis: 3\n",
      "Hypothesis 3: 47, 2.227147\n"
     ]
    }
   ],
   "source": [
    "base_path = \"benchmark/%s/%s/%s/\" % (domain, task, str(observability))\n",
    "\n",
    "problems = sorted(glob.glob(base_path + \"*\"))\n",
    "\n",
    "problem = problems[pnum]\n",
    "    \n",
    "costs = []\n",
    "times = []\n",
    "\n",
    "print(problem)\n",
    "\n",
    "# Planning Model\n",
    "Mp = parse_model(problem + \"/domain\")\n",
    "\n",
    "# Real Hypothesis\n",
    "with open(problem + \"/sol\", \"r\") as f:\n",
    "    correct_h = int(f.read())\n",
    "\n",
    "print(\"Correct hypothesis: %d\" % correct_h)\n",
    "\n",
    "# Observation sequence\n",
    "obs = parse_observation_sequence(problem + \"/obs\")\n",
    "\n",
    "# Hypotheses\n",
    "h_files = sorted(glob.glob(problem + \"/hyp*\"))\n",
    "\n",
    "for i in range(len(h_files)):\n",
    "    \n",
    "    if only_correct and correct_h != i:\n",
    "        continue\n",
    "    \n",
    "    h = parse_hypothesis(h_files[i])\n",
    "\n",
    "    #Build a decoding problem for each hypothesis\n",
    "    T = DecodingTask(Mp,Ms,obs,h)\n",
    "\n",
    "    tic = time.time()\n",
    "    sol = T.decode(clean=True, planner=\"downward\", t=timeout)\n",
    "    toc = time.time()\n",
    "\n",
    "\n",
    "    if len(sol.actions) == 0:\n",
    "        cost = 1000\n",
    "    else:\n",
    "        cost = len(sol.actions)\n",
    "        sol.to_file(problem + \"/plan.%s\" % str(i).zfill(2))\n",
    "\n",
    "    duration = toc - tic\n",
    "\n",
    "    print(\"Hypothesis %d: %d, %f\" % (i, cost, duration))\n",
    "\n",
    "    costs.append(cost)\n",
    "    times.append(duration)\n",
    "\n",
    "if not only_correct and not only_print:\n",
    "    with open(problem + \"/costs\", \"w\") as f:\n",
    "        f.write(\" \".join(map(str, costs)))\n",
    "\n",
    "    with open(problem + \"/times\", \"w\") as f:\n",
    "        f.write(\" \".join(map(str, times)))"
   ]
  }
 ],
 "metadata": {
  "kernelspec": {
   "display_name": "aaai21",
   "language": "python",
   "name": "aaai21"
  },
  "language_info": {
   "codemirror_mode": {
    "name": "ipython",
    "version": 3
   },
   "file_extension": ".py",
   "mimetype": "text/x-python",
   "name": "python",
   "nbconvert_exporter": "python",
   "pygments_lexer": "ipython3",
   "version": "3.6.9"
  }
 },
 "nbformat": 4,
 "nbformat_minor": 2
}
